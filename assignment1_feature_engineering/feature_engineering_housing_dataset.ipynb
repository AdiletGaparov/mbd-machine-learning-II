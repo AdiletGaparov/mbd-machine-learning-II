{
 "cells": [
  {
   "cell_type": "markdown",
   "metadata": {},
   "source": [
    "# Adilet Gaparov"
   ]
  },
  {
   "cell_type": "code",
   "execution_count": 1,
   "metadata": {},
   "outputs": [],
   "source": [
    "%matplotlib inline\n",
    "import pandas as pd\n",
    "import numpy as np\n",
    "\n",
    "import seaborn as sns\n",
    "import matplotlib.pyplot as plt\n",
    "\n",
    "import pandas_profiling\n",
    "\n",
    "from sklearn.base import BaseEstimator, TransformerMixin\n",
    "from sklearn.preprocessing import MinMaxScaler, StandardScaler, RobustScaler\n",
    "from sklearn.pipeline import Pipeline\n",
    "from sklearn.compose import ColumnTransformer\n",
    "from sklearn.linear_model import Lasso, Ridge, LassoCV\n",
    "from sklearn.metrics import mean_squared_error as mse\n",
    "from sklearn.feature_selection import SelectFromModel\n",
    "from sklearn.model_selection import GridSearchCV, cross_val_score\n",
    "from sklearn.impute import SimpleImputer\n",
    "\n",
    "# all my custom transformers are put into separate package with docstrings (help(ClassName))\n",
    "from custom_transformers import MyDropColumns, MyQualityEncoder, MyOtherOrdinalEncoder, MyBinaryEncoder, MySimpleImputer, MyLog1pTransformer\n",
    "from custom_transformers import MyValueAddedFeatures, MyTimeBasedFeatures, MyQualityFeatures, MyRoomsFeatures, MySpaceBasedFeatures\n",
    "from custom_transformers import MyDummyFeatures, MyFeatureSelector"
   ]
  },
  {
   "cell_type": "markdown",
   "metadata": {},
   "source": [
    "# 0. Business understanding"
   ]
  },
  {
   "cell_type": "markdown",
   "metadata": {},
   "source": [
    "The goal is to predict sales price of the property in Ames, Iowa. To do that, we are provided with a dataset containing information about each property in 79 different dimensions. The short description of each variable is given in the document called \"data_description.txt\". After going through this document and trying to understand each variable and how it might affect the price (based on research on Google), I clustered all variables into following 12 categories:\n",
    "\n",
    "1. <u><b>location</b></u>: MSZoning (type of zoning implies different laws), Neighborhood (physical location: should strongly affect the price), Condition1 and Condition2 (close to parks is good, close to railroads is not), \n",
    "2. <u><b>lot</b></u>: LotFrontage (wider frontage is usually better), LotArea (bigger area is usually better), LotShape (each has benefits and drawbacks), LandContour (flatness of the property: unlikely affecting the price), LandSlope (slope of the property: unlikely affecting the price), LotConfig (each has drawbacks and benefits)\n",
    "3. <u><b>public infrastructure</b></u>: Street (type of road: pavel is better than gravel), Alley (type of alley access: pavel is betten than gravel)\n",
    "4. <u><b>building's general characteristics</b></u>: BldgType (might affect the price), HouseStyle (might affect the price), YearBuilt and YearRemodAdd (should affect the price), Foundation (type: should affect the price)\n",
    "5. <u><b>building's quality and conditions (all should strongly affect the price)</b></u>: OverallQual, OverallCond, ExterQual and ExterCond (quality and conditions of exterior material)\n",
    "6. <u><b>building's external characteristics (all might affect the price)</b></u>: RoofStyle and RoofMatl (type and material of roof), Exterior1st and Exterior2nd (exterior covering on house), MasVnrType and MasVnrArea (type and area of masonry veneer), WoodDeckSF, OpenPorchSF, EnclosedPorch, 3SsnPorch, ScreenPorch. \n",
    "7. <u><b>building interior characteristics (all should affect the price)</b></u>: 1stFlrSF, 2bdFlrSF, LowQualityFinSf, GrLivArea, FullBath, HalfBath, Bedroom, Kitchen, KitchenQual, TotRmsAvbGrd (number of rooms), Functional (home functionality), Fireplaces, FireplaceQu, \n",
    "8. <u><b>basement-related characteristics (if present: affect if useful)</b></u>: BsmtQual, BsmtCond, BsmtExposure, BsmtFinType1, BsmtFinSF1, BsmtFinType2, BsmtFinSF2, BsmtUnfSF, TotalBsmtSF, BsmtFullBath, BsmtHalfBath, Fireplace in basement\n",
    "9. <u><b>utilities-related characteristics</b></u>: Utilities (generally more -> better), Heating and HeatingQC (type and quality of heating), CentralAir (presence is good), Electrical (system quality)\n",
    "8. <u><b>additional characteristics</b></u>: PoolArea (should affect the price), PoolQC, Fence, MiscFeature and MiscVal (should strongly affect the price)\n",
    "9. <u><b>garage-related characteristics</b></u>: GarageType, GarageYrBlt, GarageCars (size in car capacity), GarageArea (size in square feet),  GarageQual, GarageCond, PavedDrive (paved driveway)\n",
    "10. <u><b>sales-related info</b></u>: MoSold and YrSold (to determine the age: affects the price), SaleType (type of sale: might affect the price), SaleCondition (condition on sale: might affect the price). \n",
    "\n",
    "Generally, with respect to the real estate, there are two main ways to put a price on property, which is used in combination: cost-based and market-based. Cost-based implies that price of the house should be higher than the sum of all costs related to the house: cost of land (hence, lot characteristics should affect), cost of materials used to construct the building, cost of additional features (pool, garage, etc), cost of the building itself (hence, the size, number of rooms, bedrooms, and usefulness of basement matter). Market-based implies that price of the house is affected by market itself: hence location matters and sales-related information is important. "
   ]
  },
  {
   "cell_type": "markdown",
   "metadata": {},
   "source": [
    "# 1. Data understanding (EDA)"
   ]
  },
  {
   "cell_type": "code",
   "execution_count": 2,
   "metadata": {},
   "outputs": [],
   "source": [
    "original_train = pd.read_csv('data/train.csv')\n",
    "test = pd.read_csv('data/test.csv')"
   ]
  },
  {
   "cell_type": "code",
   "execution_count": 3,
   "metadata": {},
   "outputs": [],
   "source": [
    "train = original_train.copy()"
   ]
  },
  {
   "cell_type": "markdown",
   "metadata": {},
   "source": [
    "Generation of report - slow operation, check attached ready HTML5 report instead"
   ]
  },
  {
   "cell_type": "code",
   "execution_count": null,
   "metadata": {},
   "outputs": [],
   "source": [
    "# initial_report = train.profile_report(style={'full_width':True}, title='House Prices: Advanced Regression Techniques (initial)')\n",
    "# initial_report.to_file(output_file='house_prices_report_initial.html')"
   ]
  },
  {
   "cell_type": "markdown",
   "metadata": {},
   "source": [
    "#### Few conclusions can be made from the report itself:\n",
    "\n",
    "<u><b>Some features are meaningless</b></u>: Id, Utilities (all except 1 values are the same), MSSubClass (same info included in other variables), Street (all except 6 values are the same), Condition1 and Condition2 (most of values are just \"Norm\")\n",
    "\n",
    "<u><b>Features that might need log transformation (to fix skewness)</b></u>: 1stFlrSF, 2ndFlrSF (log1p), LotArea, LotFrontage, GrLivArea, BsmtUnfSF, OverallCond, SalePrice, TotalBsmtSF\n",
    "\n",
    "<u><b>Features that might need to be transformed into True/False, indicating presence, since most of values are either NAs or have one value</b></u>: 2ndFlrSF, Alley, BldgType, MiscFeature, PoolArea, Fence, MasVnrType, MasVnrArea (drop this column as after binarization it will be the same as MasVnrType)\n",
    "\n",
    "<u><b>Porch-related features to be analyzed</b></u>: 3SsnPorch, EnclosedPorch, OpenPorchSF, ScreenPorch, WoodDeckSF\n",
    "\n",
    "<u><b>Categorical features with ordinal values to be encoded</b></u>: BsmtCond, BsmtExposure, BsmtFinType1, BstmFinType2, BsmtQual, ExterCond, ExterQual, FireplaceQu, GarageCond, GarageFinish, GarageQual, HeatingQC, KitchenQual, LotShape, PavedDrive, PoolQC, Electrical, Functional, LandSlope, HouseStyle\n",
    "\n",
    "<u><b>Categorical features without order (one-hot encoding or label encoding)</b></u>: Exterior1st, Exterior2nd, Foundation, GarageType, Heating, LandContour, LotConfig, MSZoning, Neighborhood, RoofMatl, RoofStyle, SaleCondition, SaleType"
   ]
  },
  {
   "cell_type": "markdown",
   "metadata": {},
   "source": [
    "#### Categorical features vs SalePrice (visualization)"
   ]
  },
  {
   "cell_type": "code",
   "execution_count": null,
   "metadata": {},
   "outputs": [],
   "source": [
    "def plot_distribution(feature):\n",
    "    for value in train.loc[:, feature].unique():\n",
    "        subset = train[train[feature] == value]\n",
    "        sns.distplot(subset['SalePrice'], hist=True, kde=True, \n",
    "                    kde_kws={'linewidth': 3, 'shade':True}, label=value)\n",
    "    plt.legend(prop={'size': 16}, title = feature)\n",
    "    plt.show()\n",
    "\n",
    "def plot_boxplots(feature):\n",
    "    train.groupby(feature).SalePrice.describe().transpose().boxplot()\n",
    "    plt.show()\n",
    "    "
   ]
  },
  {
   "cell_type": "code",
   "execution_count": null,
   "metadata": {},
   "outputs": [],
   "source": [
    "categorical_features_1hot = ['Alley', 'BldgType', 'MasVnrType', 'CentralAir', 'Fence', \n",
    "                   'MSZoning', 'LandContour', 'LotConfig', 'Neighborhood', 'RoofStyle',\n",
    "                   'RoofMatl', 'Exterior1st', 'Exterior2nd', 'Foundation', 'Heating',\n",
    "                   'CentralAir', 'GarageType', 'SaleType', 'SaleCondition']\n",
    "\n",
    "# Based on visualization, the following categorical features are not good predictors of SalePrice:\n",
    "# Alley, BldgType, Fence, LandContour, LotConfig, RoofStyle, RoofMatl, Exterior1st, Exterior2nd, Foundation,\n",
    "# Heating, GarageType\n",
    "\n",
    "# MasVnrType --> MasVnrStone feature\n",
    "#train.loc[:, 'MasVnrType'] = train.loc[:, 'MasVnrType'].fillna('None')\n",
    "#plot_distribution('MasVnrType')\n",
    "#plot_boxplots('MasVnrType')\n",
    "\n",
    "# CentralAir --> keep\n",
    "#plot_distribution('CentralAir')\n",
    "#plot_boxplots('CentralAir')\n",
    "\n",
    "# MSZoning --> keep\n",
    "#plot_distribution('MSZoning')\n",
    "#plot_boxplots('MSZoning')\n",
    "\n",
    "# Neighborhood --> keep\n",
    "#plot_distribution('Neighborhood')\n",
    "#plot_boxplots('Neighborhood')\n",
    "\n",
    "# SaleType --> keep\n",
    "#plot_distribution('SaleType')\n",
    "#plot_boxplots('SaleType')\n",
    "\n",
    "# SaleCondition --> keep\n",
    "#plot_distribution('SaleCondition')\n",
    "#plot_boxplots('SaleCondition')"
   ]
  },
  {
   "cell_type": "markdown",
   "metadata": {},
   "source": [
    "# 2. Data preparation / cleaning "
   ]
  },
  {
   "cell_type": "markdown",
   "metadata": {},
   "source": [
    "### 2.1 outliers\n",
    "\n",
    "Instead of removing outliers in train dataset, I will use RobustScaler() to deal with outliers"
   ]
  },
  {
   "cell_type": "markdown",
   "metadata": {},
   "source": [
    "UPDATE: remove 4 outliers based on GrLivArea"
   ]
  },
  {
   "cell_type": "code",
   "execution_count": null,
   "metadata": {},
   "outputs": [],
   "source": [
    "plt.scatter(train.GrLivArea, train.SalePrice)\n",
    "train = train[train.GrLivArea  <= 4000]\n",
    "#plt.scatter(train.GrLivArea, train.SalePrice)\n",
    "#original_train = original_train[original_train.GrLivArea <= 4000]"
   ]
  },
  {
   "cell_type": "markdown",
   "metadata": {},
   "source": [
    "### 2.1 meaningless features"
   ]
  },
  {
   "cell_type": "code",
   "execution_count": null,
   "metadata": {},
   "outputs": [],
   "source": [
    "cols_to_drop = ['MSSubClass', 'Id', 'Utilities', 'Street', 'MasVnrArea', 'Condition1', 'Condition2',\n",
    "                'Alley', 'BldgType', 'Fence', 'LandContour', 'LotConfig', 'RoofStyle', 'RoofMatl',\n",
    "                'Exterior1st', 'Exterior2nd', 'Foundation', 'Heating', 'GarageType']\n",
    "train = MyDropColumns(cols_to_drop).fit_transform(train)"
   ]
  },
  {
   "cell_type": "markdown",
   "metadata": {},
   "source": [
    "###  2.2 ordinal encoding with imputing missing values"
   ]
  },
  {
   "cell_type": "markdown",
   "metadata": {},
   "source": [
    "Features related to quality and condition"
   ]
  },
  {
   "cell_type": "code",
   "execution_count": null,
   "metadata": {},
   "outputs": [],
   "source": [
    "cols_enc_quality = ['BsmtCond', 'BsmtQual', 'ExterCond', 'ExterQual', 'FireplaceQu', \n",
    "                    'GarageCond', 'GarageQual', 'HeatingQC', 'KitchenQual', 'PoolQC']\n",
    "train = MyQualityEncoder(cols_enc_quality).fit_transform(train)"
   ]
  },
  {
   "cell_type": "markdown",
   "metadata": {},
   "source": [
    "Other features that can be ordinally encoded"
   ]
  },
  {
   "cell_type": "code",
   "execution_count": null,
   "metadata": {},
   "outputs": [],
   "source": [
    "cols_enc_ordinal = ['BsmtExposure', 'BsmtFinType1', 'BsmtFinType2', 'GarageFinish',\n",
    "                'LotShape', 'PavedDrive', 'Electrical', 'Functional', 'HouseStyle', 'LandSlope']\n",
    "train = MyOtherOrdinalEncoder(cols_enc_ordinal).fit_transform(train)"
   ]
  },
  {
   "cell_type": "markdown",
   "metadata": {},
   "source": [
    "### 2.3 binary encoding with imputing missing values"
   ]
  },
  {
   "cell_type": "code",
   "execution_count": null,
   "metadata": {},
   "outputs": [],
   "source": [
    "train = MyBinaryEncoder().fit_transform(train)"
   ]
  },
  {
   "cell_type": "markdown",
   "metadata": {},
   "source": [
    "###  2.4 missing values "
   ]
  },
  {
   "cell_type": "code",
   "execution_count": null,
   "metadata": {},
   "outputs": [],
   "source": [
    "train.isnull().sum()[train.isnull().sum()>0]"
   ]
  },
  {
   "cell_type": "markdown",
   "metadata": {},
   "source": [
    "Most likely those missing values indicate absence: absence of Garage and zero Lot Frontage. Let's impute values correspondingly. "
   ]
  },
  {
   "cell_type": "code",
   "execution_count": null,
   "metadata": {},
   "outputs": [],
   "source": [
    "train = MySimpleImputer().fit_transform(train) "
   ]
  },
  {
   "cell_type": "markdown",
   "metadata": {},
   "source": [
    "### 2.5 skewness\n",
    "\n",
    "I will apply Log transformation after adding features. Unless columns are specified, MyLog1pTransformer() transformer applies Log1p on each numerical feature that has skewness > 0.75"
   ]
  },
  {
   "cell_type": "markdown",
   "metadata": {},
   "source": [
    "# 3. Feature engineering (experimentation)"
   ]
  },
  {
   "cell_type": "markdown",
   "metadata": {},
   "source": [
    "## 3.1 feature creation"
   ]
  },
  {
   "cell_type": "markdown",
   "metadata": {},
   "source": [
    "### Ideas for additional features\n",
    "\n",
    "<u><b>Basement-related features</b></u>:\n",
    "1. Basement exists: from any of Bsmt features\n",
    "2. Basement SF value = BsmtFinType1 * BsmtFinSF1 + BsmtFinType2 * BsmtSF2 ---> <i>MyValueAddedFeature(basement=True)</i>\n",
    "3. Basement Finished share = (1-BsmtUnfSF)/TotalBsmtSF or if TotalBsmtSF = 0 ---> <i>MySpaceBasedFeatures(bsmt_finished=True)</i>\n",
    "4. Basement Additional Value = Basement SF value * BsmtExposure ---> <i>MyValueAddedFeature(basement_adv=True)</i>\n",
    "5. Basement evaluation mult = BsmtQual * BsmtCond ---> <i>MyQualityFeatures(basement_mult=True)</i>\n",
    "6. Basement evaluation sum = BsmtQual + BsmtCond ---> <i>MyQualityFeatures(basement_sum=True)</i>\n",
    "7. Basement size in comparison = TotalBsmtSF / GrLivArea ---> <i>MySpaceBasedFeatures(bsmt_vs_living=True)</i>\n",
    "\n",
    "<u><b>Garage-related features</b></u>:\n",
    "1. Garage value = GarageArea * GarageQual ---> <i>MyValueAddedFeature(garage=True)</i>\n",
    "2. Garage evaluation mult = GarageQual * GarageCond ---> <i>MyQualityFeatures(garage_mult=True)</i>\n",
    "3. Garage evaluation sum = GarageQual + GarageCond ---> <i>MyQualityFeatures(garage_sum=True)</i>\n",
    "\n",
    "<u><b>Bedrooms/bathrooms/kitchen features</b></u>:\n",
    "1. Total bathrooms = FullBath + 0.5 * HalfBath + BsmtFullBath + 0.5 * BsmtHalfBath ---> <i>MyRoomsFeatures(tot_bath=True)</i>\n",
    "2. Bathrooms / bedrooms = Total bathrooms / BedroomAbvGr ---> <i>MyRoomsFeatures(bath_vs_bedrooms=True)</i>\n",
    "3. Bedrooms share space = BedroomAbvGr / GrLivArea ---> <i>MyRoomsFeatures(bedrooms_vs_area=True)</i>\n",
    "4. Bedrooms share rooms = BedroomAbvGr / TotRmsAbvGrd ---> <i>MyRoomsFeatures(bedrooms_vs_rooms=True)</i>\n",
    "5. All rooms share space = TotRmsAbvGrd / GrLivArea ---> <i>MyRoomsFeatures(rooms_vs_area=True)</i>\n",
    "6. Kitchen value = Kitchen * KitchenQual ---> <i>MyValueAddedFeature(kitchen=True)</i>\n",
    "\n",
    "<u><b>Time/date features</b></u>:\n",
    "1. Seasonality = season(MoSold) ---> <i>MyTimeBasedFeatures(season=True)</i>\n",
    "2. Time since construction (house) = YrSold - YearBuilt ---> <i>MyTimeBasedFeatures(since_house_built=True)</i>\n",
    "3. Time since construction (garage) = YrSold - GarageYrBlt ---> <i>MyTimeBasedFeatures(since_garage_built=True)</i>\n",
    "4. Time since renovation (house) = YrSold - YearRemodAdd ---> <i>MyTimeBasedFeatures(since_house_remod=True)</i>\n",
    "5. Remodeled = True if YearRemodAdd is different than YearBuilt ---> <i>MyTimeBasedFeatures(isRemodeled=True)</i>\n",
    "\n",
    "<u><b>Space/area-related features</b></u>:\n",
    "1. Total porch area = WoodDeckSF + OpenPorchSF + EnclosedPorch + 3SsnPorch + ScreenPorch ---> <i>MySpaceBasedFeatures(porch=True)</i>\n",
    "2. Free space left = (LotArea - TotalBsmtSF - GarageArea - PoolArea - Total porch area) / LotArea ---> <i>MySpaceBasedFeatures(lot_left_percent=True)</i>\n",
    "3. House space share = TotalBsmtSF / LotArea ---> <i>MySpaceBasedFeatures(bsmt_vs_lot=True)</i>\n",
    "\n",
    "<u><b>Quality-related features</b></u>:\n",
    "1. High Quality SF = (1-LowQualFinSF)/GrLivArea ---> <i>MyQualityFeatures(high_quality_sf=True)</i>\n",
    "2. Overall evaluation mult = OverallQual * OverallCond ---> <i>MyQualityFeatures(overall_mult=True)</i>\n",
    "3. Overall evaluation sum =  OverallQual + OverallCond ---> <i>MyQualityFeatures(overall_sum=True)</i>\n",
    "4. External material evaluation mult = ExterQual * ExterCond ---> <i>MyQualityFeatures(external_mult=True)</i>\n",
    "5. External material evaluation sum = ExterQual + ExterCond ---> <i>MyQualityFeatures(external_sum=True)</i>\n",
    "\n",
    "\n",
    "<u><b>Luxury features</b></u>: \n",
    "1. Pool value = PoolArea * PoolQC ---> <i>MyValueAddedFeature(pool=True)</i>\n",
    "2. Fireplace value = Fireplaces * FireplaceQu ---> <i>MyValueAddedFeature(fireplace=True)</i>\n",
    "\n",
    "\n",
    "<u><b>One-hot variables</b></u>:\n",
    "Electrical, Heating, MSZoning, Neighborhood, LandContour, LotConfig, RoofStyle, RoofMatl, Exterior1st, Exterior2nd, Foundation, GarageType\n"
   ]
  },
  {
   "cell_type": "markdown",
   "metadata": {},
   "source": [
    "####  Adding value-based features"
   ]
  },
  {
   "cell_type": "code",
   "execution_count": null,
   "metadata": {},
   "outputs": [],
   "source": [
    "train = MyValueAddedFeatures().fit_transform(train)"
   ]
  },
  {
   "cell_type": "markdown",
   "metadata": {},
   "source": [
    "#### Adding quality/conditions related features"
   ]
  },
  {
   "cell_type": "code",
   "execution_count": null,
   "metadata": {},
   "outputs": [],
   "source": [
    "train = MyQualityFeatures().fit_transform(train)"
   ]
  },
  {
   "cell_type": "markdown",
   "metadata": {},
   "source": [
    "#### Adding time-based features"
   ]
  },
  {
   "cell_type": "code",
   "execution_count": null,
   "metadata": {},
   "outputs": [],
   "source": [
    "train = MyTimeBasedFeatures().fit_transform(train)"
   ]
  },
  {
   "cell_type": "markdown",
   "metadata": {},
   "source": [
    "#### Adding rooms-based features"
   ]
  },
  {
   "cell_type": "code",
   "execution_count": null,
   "metadata": {},
   "outputs": [],
   "source": [
    "train = MyRoomsFeatures().fit_transform(train)"
   ]
  },
  {
   "cell_type": "markdown",
   "metadata": {},
   "source": [
    "#### Adding space-based features"
   ]
  },
  {
   "cell_type": "code",
   "execution_count": null,
   "metadata": {},
   "outputs": [],
   "source": [
    "train = MySpaceBasedFeatures().fit_transform(train)"
   ]
  },
  {
   "cell_type": "markdown",
   "metadata": {},
   "source": [
    "#### Applying Log transformation on all features with skewness > 0.75"
   ]
  },
  {
   "cell_type": "code",
   "execution_count": null,
   "metadata": {},
   "outputs": [],
   "source": [
    "train = MyLog1pTransformer().fit_transform(train)"
   ]
  },
  {
   "cell_type": "markdown",
   "metadata": {},
   "source": [
    "#### Initial Pipeline with all numerical features and categorical \"Neighborhood\" and new \"season\""
   ]
  },
  {
   "cell_type": "code",
   "execution_count": null,
   "metadata": {},
   "outputs": [],
   "source": [
    "cols_to_drop = ['MSSubClass', 'Id', 'Utilities', 'Street', 'MasVnrArea', 'Condition1', 'Condition2',\n",
    "                'Alley', 'BldgType', 'Fence', 'LandContour', 'LotConfig', 'RoofStyle', 'RoofMatl',\n",
    "                'Exterior1st', 'Exterior2nd', 'Foundation', 'Heating', 'GarageType']\n",
    "cols_enc_quality = ['BsmtCond', 'BsmtQual', 'ExterCond', 'ExterQual', 'FireplaceQu', \n",
    "                'GarageCond', 'GarageQual', 'HeatingQC', 'KitchenQual', 'PoolQC']\n",
    "cols_enc_ordinal = ['BsmtExposure', 'BsmtFinType1', 'BsmtFinType2', 'GarageFinish',\n",
    "                'LotShape', 'PavedDrive', 'Electrical', 'Functional', 'HouseStyle',\n",
    "                   'LandSlope']\n",
    "\n",
    "\n",
    "preprocessing = Pipeline([\n",
    "    ('drop_cols', MyDropColumns(cols_to_drop)),\n",
    "    ('quality_encoder', MyQualityEncoder(cols_enc_quality)),\n",
    "    ('order_encoder', MyOtherOrdinalEncoder(cols_enc_ordinal)),\n",
    "    ('binary_encoder', MyBinaryEncoder()),\n",
    "    ('imputer', MySimpleImputer())\n",
    "])\n",
    "\n",
    "feature_creation = Pipeline([\n",
    "    ('value', MyValueAddedFeatures()),\n",
    "    ('quality', MyQualityFeatures()),\n",
    "    ('time', MyTimeBasedFeatures()),\n",
    "    ('rooms', MyRoomsFeatures()),\n",
    "    ('space', MySpaceBasedFeatures()),\n",
    "    ('new_log_transformer', MyLog1pTransformer()),\n",
    "    ('onehot', MyDummyFeatures())\n",
    "])\n",
    "\n",
    "full_pipeline = Pipeline([\n",
    "    ('cleaning', preprocessing),\n",
    "    ('features', feature_creation),\n",
    "    ('median_scaler', RobustScaler()),\n",
    "    ('lasso_cv', LassoCV(cv=10))\n",
    "])\n",
    "\n",
    "# UDPATE (Mon, 10:55): Drop 4 outliers based on GrLivArea\n",
    "original_train = original_train[original_train.GrLivArea <= 4000]\n",
    "\n",
    "X = original_train.drop('SalePrice',axis=1)\n",
    "y = np.log(original_train.SalePrice) # predicting log(SalePrice)\n",
    "\n",
    "full_pipeline.fit(X,y)\n",
    "\n",
    "y_pred = full_pipeline.predict(X)\n",
    "\n",
    "rmsle = np.sqrt(mse(y,y_pred))\n",
    "print(rmsle)\n",
    "\n",
    "y_test = full_pipeline.predict(test)\n",
    "submission = pd.DataFrame({'Id': test.Id, 'SalePrice': np.exp(y_test)})\n",
    "submission.to_csv('lasso_submission.csv', index=False)"
   ]
  },
  {
   "cell_type": "markdown",
   "metadata": {},
   "source": [
    "## 3.2 feature selection"
   ]
  },
  {
   "cell_type": "markdown",
   "metadata": {},
   "source": [
    "### a. filtering\n",
    "\n",
    "#### Numerical features\n",
    "Given the regression problem, I will filter features based on Spearman correlation to filter numerical features"
   ]
  },
  {
   "cell_type": "code",
   "execution_count": null,
   "metadata": {},
   "outputs": [],
   "source": [
    "correlated_features = abs(train.corr(method='spearman')['SalePrice_log'].sort_values(ascending=False))>0.5\n",
    "correlated_w_target = train.corr(method='spearman')['SalePrice_log'].sort_values(ascending=False)[correlated_features].index\n",
    "corr_matrix = train[correlated_w_target].drop('SalePrice',axis=1).corr(method='spearman')\n",
    "corr_matrix.style.background_gradient(cmap='coolwarm')"
   ]
  },
  {
   "cell_type": "code",
   "execution_count": null,
   "metadata": {},
   "outputs": [],
   "source": [
    "final_numerical_features = ['OverallQual', 'GrLivArea', 'TotBath', 'GarageCars',\n",
    "                            'ExterQual', 'BsmtQual', 'KitchenQual', 'FullBath', \n",
    "                            'GarageFinish', 'OverallEval_sum', 'TotalBsmtSF', 'YrsSinceRemod',\n",
    "                            'YrsSinceBuilt', 'FireplaceQu', 'Bedrooms_vs_LivArea', 'Rooms_vs_LivArea']"
   ]
  },
  {
   "cell_type": "markdown",
   "metadata": {},
   "source": [
    "### b. wrapper\n",
    "\n",
    "Given the large number of features, I decided not to use wrapper methods as it might take significant time to figuring out the best combination of features and it is not guaranteed to give me the best model. "
   ]
  },
  {
   "cell_type": "markdown",
   "metadata": {},
   "source": [
    "### c. embedded methods\n",
    "\n",
    "Let's run Lasso for final feature selection"
   ]
  },
  {
   "cell_type": "code",
   "execution_count": null,
   "metadata": {},
   "outputs": [],
   "source": [
    "cols_to_drop = ['MSSubClass', 'Id', 'Utilities', 'Street', 'MasVnrArea', 'Condition1', 'Condition2',\n",
    "                'Alley', 'BldgType', 'Fence', 'LandContour', 'LotConfig', 'RoofStyle', 'RoofMatl',\n",
    "                'Exterior1st', 'Exterior2nd', 'Foundation', 'Heating', 'GarageType']\n",
    "cols_enc_quality = ['BsmtCond', 'BsmtQual', 'ExterCond', 'ExterQual', 'FireplaceQu', \n",
    "                'GarageCond', 'GarageQual', 'HeatingQC', 'KitchenQual', 'PoolQC']\n",
    "cols_enc_ordinal = ['BsmtExposure', 'BsmtFinType1', 'BsmtFinType2', 'GarageFinish',\n",
    "                'LotShape', 'PavedDrive', 'Electrical', 'Functional', 'HouseStyle',\n",
    "                   'LandSlope']\n",
    "\n",
    "features = ['OverallQual', 'GrLivArea', 'TotBath', 'GarageCars',\n",
    "            'ExterQual', 'BsmtQual', 'KitchenQual', 'FullBath', \n",
    "            'GarageFinish', 'OverallEval_sum', 'TotalBsmtSF', 'YrsSinceRemod',\n",
    "            'YrsSinceBuilt', 'FireplaceQu', 'Bedrooms_vs_LivArea', 'Rooms_vs_LivArea',\n",
    "           'MSZoning','Neighborhood', 'SaleType','SaleCondition']\n",
    "\n",
    "preprocessing = Pipeline([\n",
    "    ('drop_cols', MyDropColumns(cols_to_drop)),\n",
    "    ('quality_encoder', MyQualityEncoder(cols_enc_quality)),\n",
    "    ('order_encoder', MyOtherOrdinalEncoder(cols_enc_ordinal)),\n",
    "    ('binary_encoder', MyBinaryEncoder()),\n",
    "    ('imputer', MySimpleImputer())\n",
    "])\n",
    "\n",
    "feature_creation = Pipeline([\n",
    "    ('value', MyValueAddedFeatures(pool=False, kitchen=False, garage=False, \n",
    "                                   fireplace=False, basement=False, basement_adv=False)),\n",
    "    ('quality', MyQualityFeatures(high_quality_sf=False, overall_mult=False, \n",
    "                                  external_mult=False, external_sum=False, garage_mult=False,\n",
    "                                  garage_sum=False,basement_mult=False, basement_sum=False)),\n",
    "    ('time', MyTimeBasedFeatures(season=False, since_garage_built=False, isRemodeled=False)),\n",
    "    ('rooms', MyRoomsFeatures(bath_vs_bedrooms=False, bedrooms_vs_rooms=False)),\n",
    "    ('space', MySpaceBasedFeatures(bsmt_finished_percent=False, bsmt_vs_living=False, \n",
    "                                   porch=False, lot_left_percent=False, bsmt_vs_lot=False)),\n",
    "    ('feature_selector', MyFeatureSelector(features)), \n",
    "    ('onehot', MyDummyFeatures())\n",
    "])\n",
    "\n",
    "full_pipeline = Pipeline([\n",
    "    ('cleaning', preprocessing),\n",
    "    ('features', feature_creation),\n",
    "    ('median_scaler', RobustScaler())\n",
    "])\n",
    "\n",
    "\n",
    "# UDPATE (Mon, 10:55): Drop 4 outliers based on GrLivArea\n",
    "original_train = original_train[original_train.GrLivArea <= 4000]\n",
    "\n",
    "X = original_train.drop('SalePrice',axis=1)\n",
    "y = np.log(original_train.SalePrice) # predicting log(SalePrice)\n",
    "\n",
    "X_prepared = full_pipeline.fit_transform(X)\n",
    "\n",
    "lasso = Lasso()\n",
    "grid_search = GridSearchCV(lasso, param_grid=[{'alpha': [1e-5, 3e-5, 0.0001, 0.0003, 0.001,0.003]}],\n",
    "                           scoring='neg_mean_squared_error', cv=10)\n",
    "grid_search.fit(X_prepared,y)\n",
    "print(grid_search.best_params_)\n",
    "\n",
    "coefficients = list(grid_search.best_estimator_.coef_)\n",
    "removed_features = [i for i,value in enumerate(coefficients) if value==0]\n",
    "removed_features"
   ]
  },
  {
   "cell_type": "code",
   "execution_count": null,
   "metadata": {},
   "outputs": [],
   "source": [
    "transformation = Pipeline([\n",
    "    ('cleaning', preprocessing),\n",
    "    ('features', feature_creation)\n",
    "])\n",
    "\n",
    "X_columns = transformation.fit_transform(X)\n",
    "print('Columns removed by Lasso: ', list(X_columns.iloc[:, [0,4, 27, 37, 38,47,48,51,56]].columns))"
   ]
  },
  {
   "cell_type": "markdown",
   "metadata": {},
   "source": [
    "# 3. Final pipeline"
   ]
  },
  {
   "cell_type": "code",
   "execution_count": null,
   "metadata": {},
   "outputs": [],
   "source": [
    "cols_to_drop = ['MSSubClass', 'Id', 'Utilities', 'Street', 'MasVnrArea', 'Condition1', 'Condition2',\n",
    "                'Alley', 'BldgType', 'Fence', 'LandContour', 'LotConfig', 'RoofStyle', 'RoofMatl',\n",
    "                'Exterior1st', 'Exterior2nd', 'Foundation', 'Heating', 'GarageType']\n",
    "cols_enc_quality = ['BsmtCond', 'BsmtQual', 'ExterCond', 'ExterQual', 'FireplaceQu', \n",
    "                'GarageCond', 'GarageQual', 'HeatingQC', 'KitchenQual', 'PoolQC']\n",
    "cols_enc_ordinal = ['BsmtExposure', 'BsmtFinType1', 'BsmtFinType2', 'GarageFinish',\n",
    "                'LotShape', 'PavedDrive', 'Electrical', 'Functional', 'HouseStyle',\n",
    "                   'LandSlope']\n",
    "\n",
    "features = ['OverallQual', 'GrLivArea', 'TotBath', 'GarageCars',\n",
    "            'ExterQual', 'BsmtQual', 'KitchenQual', 'FullBath', \n",
    "            'GarageFinish', 'OverallEval_sum', 'TotalBsmtSF', 'YrsSinceRemod',\n",
    "            'YrsSinceBuilt', 'FireplaceQu', 'Bedrooms_vs_LivArea', 'Rooms_vs_LivArea',\n",
    "           'MSZoning','Neighborhood', 'SaleType','SaleCondition']\n",
    "\n",
    "cols_lasso_drop = ['OverallQual','ExterQual','Neighborhood_Gilbert', 'Neighborhood_SWISU', \n",
    "                   'Neighborhood_Sawyer', 'SaleType_ConLI', 'SaleType_ConLw','SaleType_WD','SaleCondition_Partial' ]\n",
    "\n",
    "preprocessing = Pipeline([\n",
    "    ('drop_cols', MyDropColumns(cols_to_drop)),\n",
    "    ('quality_encoder', MyQualityEncoder(cols_enc_quality)),\n",
    "    ('order_encoder', MyOtherOrdinalEncoder(cols_enc_ordinal)),\n",
    "    ('binary_encoder', MyBinaryEncoder()),\n",
    "    ('imputer', MySimpleImputer())\n",
    "])\n",
    "\n",
    "feature_creation = Pipeline([\n",
    "    ('value', MyValueAddedFeatures(pool=False, kitchen=False, garage=False, \n",
    "                                   fireplace=False, basement=False, basement_adv=False)),\n",
    "    ('quality', MyQualityFeatures(high_quality_sf=False, overall_mult=False, \n",
    "                                  external_mult=False, external_sum=False, garage_mult=False,\n",
    "                                  garage_sum=False,basement_mult=False, basement_sum=False)),\n",
    "    ('time', MyTimeBasedFeatures(season=False, since_garage_built=False, isRemodeled=False)),\n",
    "    ('rooms', MyRoomsFeatures(bath_vs_bedrooms=False, bedrooms_vs_rooms=False)),\n",
    "    ('space', MySpaceBasedFeatures(bsmt_finished_percent=False, bsmt_vs_living=False, \n",
    "                                   porch=False, lot_left_percent=False, bsmt_vs_lot=False)),\n",
    "    ('feature_selector', MyFeatureSelector(features)), \n",
    "    ('onehot', MyDummyFeatures())\n",
    "])\n",
    "\n",
    "full_pipeline = Pipeline([\n",
    "    ('cleaning', preprocessing),\n",
    "    ('features', feature_creation),\n",
    "    ('drop_columns', MyDropColumns(cols_lasso_drop)),\n",
    "    ('median_scaler', RobustScaler())\n",
    "])\n",
    "\n",
    "\n",
    "# UDPATE (Mon, 10:55): Drop 4 outliers based on GrLivArea\n",
    "original_train = original_train[original_train.GrLivArea <= 4000]\n",
    "\n",
    "X = original_train.drop('SalePrice',axis=1)\n",
    "y = np.log(original_train.SalePrice) # predicting log(SalePrice)\n",
    "\n",
    "X_prepared = full_pipeline.fit_transform(X)\n",
    "\n",
    "# Grid Search\n",
    "ridge = Ridge()\n",
    "grid_search = GridSearchCV(ridge, param_grid=[{'alpha': [0.001,0.003, 0.01, 0.03, 0.1, 0.2, 0.29, 0.3, 0.4]}],\n",
    "                           scoring='neg_mean_squared_error', cv=10)\n",
    "grid_search.fit(X_prepared,y)\n",
    "print(grid_search.best_params_)\n",
    "\n",
    "y_pred = grid_search.best_estimator_.predict(X_prepared)\n",
    "rmsle = np.sqrt(mse(y,y_pred))\n",
    "print(rmsle)\n",
    "\n",
    "# Creation of submission file\n",
    "X_test = full_pipeline.transform(test)\n",
    "y_test = grid_search.best_estimator_.predict(X_test)\n",
    "\n",
    "submission = pd.DataFrame({'Id': test.Id, 'SalePrice': np.exp(y_test)})\n",
    "submission.to_csv('ridge_submission.csv', index=False)"
   ]
  },
  {
   "cell_type": "code",
   "execution_count": null,
   "metadata": {},
   "outputs": [],
   "source": [
    "X_test = full_pipeline.transform(test)\n",
    "y_test = grid_search.best_estimator_.predict(X_test)\n",
    "\n",
    "submission = pd.DataFrame({'Id': test.Id, 'SalePrice': np.exp(y_test)})\n",
    "submission.to_csv('ridge_submission.csv', index=False)"
   ]
  },
  {
   "cell_type": "markdown",
   "metadata": {},
   "source": [
    "# [UPDATED] Comments: based on Kaggle, my initial Lasso model with all numerical features and \"Neighborhood\" and new \"season\" was better than this Ridge model (score: 0.12599)\n",
    "\n",
    "## Let's run Ridge with on a dataset with numerical features and \"Neighborhood\" and new \"season\".  It gave me the best so far score on Kaggle: 0.12095"
   ]
  },
  {
   "cell_type": "code",
   "execution_count": 6,
   "metadata": {},
   "outputs": [
    {
     "name": "stdout",
     "output_type": "stream",
     "text": [
      "{'alpha': 1.4}\n",
      "0.09806257803308048\n"
     ]
    }
   ],
   "source": [
    "cols_to_drop = ['MSSubClass', 'Id', 'Utilities', 'Street', 'MasVnrArea', 'Condition1', 'Condition2',\n",
    "                'Alley', 'BldgType', 'Fence', 'LandContour', 'LotConfig', 'RoofStyle', 'RoofMatl',\n",
    "                'Exterior1st', 'Exterior2nd', 'Foundation', 'Heating', 'GarageType']\n",
    "cols_enc_quality = ['BsmtCond', 'BsmtQual', 'ExterCond', 'ExterQual', 'FireplaceQu', \n",
    "                'GarageCond', 'GarageQual', 'HeatingQC', 'KitchenQual', 'PoolQC']\n",
    "cols_enc_ordinal = ['BsmtExposure', 'BsmtFinType1', 'BsmtFinType2', 'GarageFinish',\n",
    "                'LotShape', 'PavedDrive', 'Electrical', 'Functional', 'HouseStyle',\n",
    "                   'LandSlope']\n",
    "\n",
    "preprocessing = Pipeline([\n",
    "    ('drop_cols', MyDropColumns(cols_to_drop)),\n",
    "    ('quality_encoder', MyQualityEncoder(cols_enc_quality)),\n",
    "    ('order_encoder', MyOtherOrdinalEncoder(cols_enc_ordinal)),\n",
    "    ('binary_encoder', MyBinaryEncoder()),\n",
    "    ('imputer', MySimpleImputer())\n",
    "])\n",
    "\n",
    "feature_creation = Pipeline([\n",
    "    ('value', MyValueAddedFeatures()),\n",
    "    ('quality', MyQualityFeatures()),\n",
    "    ('time', MyTimeBasedFeatures()),\n",
    "    ('rooms', MyRoomsFeatures()),\n",
    "    ('space', MySpaceBasedFeatures()),\n",
    "    ('new_log_transformer', MyLog1pTransformer()),\n",
    "    ('onehot', MyDummyFeatures())\n",
    "])\n",
    "\n",
    "full_pipeline = Pipeline([\n",
    "    ('cleaning', preprocessing),\n",
    "    ('features', feature_creation),\n",
    "    ('median_scaler', RobustScaler())\n",
    "])\n",
    "\n",
    "\n",
    "# UDPATE (Mon, 10:55): Drop 4 outliers based on GrLivArea\n",
    "original_train = original_train[original_train.GrLivArea <= 4000]\n",
    "\n",
    "X = original_train.drop('SalePrice',axis=1)\n",
    "y = np.log(original_train.SalePrice) # predicting log(SalePrice)\n",
    "\n",
    "X_prepared = full_pipeline.fit_transform(X)\n",
    "\n",
    "# Grid Search\n",
    "ridge_all = Ridge()\n",
    "grid_search_all = GridSearchCV(ridge_all, param_grid=[{'alpha': [1.35, 1.4, 1.5, 2, 2.2, 2.3]}],\n",
    "                           scoring='neg_mean_squared_error', cv=10)\n",
    "grid_search_all.fit(X_prepared,y)\n",
    "print(grid_search_all.best_params_)\n",
    "\n",
    "y_pred_all = grid_search_all.best_estimator_.predict(X_prepared)\n",
    "rmsle = np.sqrt(mse(y,y_pred_all))\n",
    "print(rmsle)\n",
    "\n",
    "# Creation of submission file\n",
    "X_test = full_pipeline.transform(test)\n",
    "y_test = grid_search_all.best_estimator_.predict(X_test)\n",
    "submission = pd.DataFrame({'Id': test.Id, 'SalePrice': np.exp(y_test)})\n",
    "submission.to_csv('ridge_all_submission.csv', index=False)"
   ]
  }
 ],
 "metadata": {
  "kernelspec": {
   "display_name": "Python 3",
   "language": "python",
   "name": "python3"
  },
  "language_info": {
   "codemirror_mode": {
    "name": "ipython",
    "version": 3
   },
   "file_extension": ".py",
   "mimetype": "text/x-python",
   "name": "python",
   "nbconvert_exporter": "python",
   "pygments_lexer": "ipython3",
   "version": "3.7.3"
  }
 },
 "nbformat": 4,
 "nbformat_minor": 4
}
