{
 "cells": [
  {
   "cell_type": "code",
   "execution_count": 26,
   "metadata": {},
   "outputs": [],
   "source": [
    "%matplotlib inline\n",
    "import pandas as pd\n",
    "import numpy as np\n",
    "import seaborn as sns\n",
    "import matplotlib.pyplot as plt\n",
    "import pandas_profiling\n",
    "from sklearn.base import BaseEstimator, TransformerMixin\n",
    "from sklearn.preprocessing import OneHotEncoder, MinMaxScaler, StandardScaler\n",
    "from sklearn.pipeline import Pipeline, FeatureUnion\n",
    "from sklearn.compose import ColumnTransformer"
   ]
  },
  {
   "cell_type": "markdown",
   "metadata": {},
   "source": [
    "# 0. Business understanding"
   ]
  },
  {
   "cell_type": "markdown",
   "metadata": {},
   "source": [
    "The goal is to predict sales price of the property in Ames, Iowa. To do that, we are provided with a dataset containing information about each property in 79 different dimensions. The short description of each variable is given in the document called \"data_description.txt\". After going through this document and trying to understand each variable and how it might affect the price (based on research on Google), I clustered all variables into following 12 categories:\n",
    "\n",
    "1. <b>location</b>: MSZoning (type of zoning implies different laws), Neighborhood (physical location: should strongly affect the price), Condition1 and Condition2 (close to parks is good, close to railroads is not), \n",
    "2. <b>lot</b>: LotFrontage (wider frontage is usually better), LotArea (bigger area is usually better), LotShape (each has benefits and drawbacks), LandContour (flatness of the property: unlikely affecting the price), LandSlope (slope of the property: unlikely affecting the price), LotConfig (each has drawbacks and benefits)\n",
    "3. <b>public infrastructure</b>: Street (type of road: pavel is better than gravel), Alley (type of alley access: pavel is betten than gravel)\n",
    "4. <b>building's general characteristics</b>: BldgType (might affect the price), HouseStyle (might affect the price), YearBuilt and YearRemodAdd (should affect the price), Foundation (type: should affect the price)\n",
    "5. <b>building's quality and conditions (all should strongly affect the price)</b>: OverallQual, OverallCond, ExterQual and ExterCond (quality and conditions of exterior material)\n",
    "6. <b>building's external characteristics (all might affect the price)</b>: RoofStyle and RoofMatl (type and material of roof), Exterior1st and Exterior2nd (exterior covering on house), MasVnrType and MasVnrArea (type and area of masonry veneer), WoodDeckSF, OpenPorchSF, EnclosedPorch, 3SsnPorch, ScreenPorch. \n",
    "7. <b>building interior characteristics (all should affect the price)</b>: 1stFlrSF, 2bdFlrSF, LowQualityFinSf, GrLivArea, FullBath, HalfBath, Bedroom, Kitchen, KitchenQual, TotRmsAvbGrd (number of rooms), Functional (home functionality), Fireplaces, FireplaceQu, \n",
    "8. <b>basement-related characteristics (if present: affect if useful)</b>: BsmtQual, BsmtCond, BsmtExposure, BsmtFinType1, BsmtFinSF1, BsmtFinType2, BsmtFinSF2, BsmtUnfSF, TotalBsmtSF, BsmtFullBath, BsmtHalfBath, Fireplace in basement\n",
    "9. <b>utilities-related characteristics</b>: Utilities (generally more -> better), Heating and HeatingQC (type and quality of heating), CentralAir (presence is good), Electrical (system quality)\n",
    "8. <b>additional characteristics</b>: PoolArea (should affect the price), PoolQC, Fence, MiscFeature and MiscVal (should strongly affect the price)\n",
    "9. <b>garage-related characteristics</b>: GarageType, GarageYrBlt, GarageCars (size in car capacity), GarageArea (size in square feet),  GarageQual, GarageCond, PavedDrive (paved driveway)\n",
    "10. <b>sales-related info</b>: MoSold and YrSold (to determine the age: affects the price), SaleType (type of sale: might affect the price), SaleCondition (condition on sale: might affect the price). \n",
    "\n",
    "Generally, with respect to the real estate, there are two main ways to put a price on property, which is used in combination: cost-based and market-based. Cost-based implies that price of the house should be higher than the sum of all costs related to the house: cost of land (hence, lot characteristics should affect), cost of materials used to construct the building, cost of additional features (pool, garage, etc), cost of the building itself (hence, the size, number of rooms, bedrooms, and usefulness of basement matter). Market-based implies that price of the house is affected by market itself: hence location matters and sales-related information is important. "
   ]
  },
  {
   "cell_type": "markdown",
   "metadata": {},
   "source": [
    "# 1. Data understanding (EDA)"
   ]
  },
  {
   "cell_type": "code",
   "execution_count": 4,
   "metadata": {},
   "outputs": [],
   "source": [
    "original_train = pd.read_csv('data/train.csv')\n",
    "test = pd.read_csv('data/test.csv')"
   ]
  },
  {
   "cell_type": "code",
   "execution_count": 98,
   "metadata": {},
   "outputs": [],
   "source": [
    "train = original_train.copy()"
   ]
  },
  {
   "cell_type": "code",
   "execution_count": 8,
   "metadata": {},
   "outputs": [],
   "source": [
    "report = train.profile_report(style={'full_width':True}, title='House Prices: Advanced Regression Techniques')"
   ]
  },
  {
   "cell_type": "code",
   "execution_count": 10,
   "metadata": {},
   "outputs": [],
   "source": [
    "report.to_file(output_file='house_prices_report.html')"
   ]
  },
  {
   "cell_type": "markdown",
   "metadata": {},
   "source": [
    "Based on report, \n",
    "\n",
    "Some features are meaningless: Id, Utilities (all except 1 values are the same), MSSubClass (same info contains in other variables), Street (all except 6 values are the same)\n",
    "\n",
    "Features that might need log transformation (to fix skewness): 1stFlrSF, 2ndFlrSF (log1p), LotArea, LotFrontage, GrLivArea, BsmtUnfSF, MasVnrArea, OverallCond, SalePrice, TotalBsmtSF\n",
    "\n",
    "Features that might need to be transformed into True/False, indicating presence, since most of values are either NAs or have one value: 2ndFlrSF, Alley, BldgType, MiscFeature, PoolArea, WoodDeckSF, Fence\n",
    "\n",
    "Porch-related features to be analyzed: 3SsnPorch, EnclosedPorch, OpenPorchSF, ScreenPorch, WoodDeckSF\n",
    "\n",
    "Categorical features with ordinal values to be encoded: BsmtCond, BsmtExposure, BsmtFinType1, BstmFinType2, BsmtQual, ExterCond, ExterQual, FireplaceQu, GarageCond, GarageFinish, GarageQual, HeatingQC, KitchenQual, LotShape, PavedDrive, PoolQC\n",
    "\n",
    "Features that require additional analysis: Condition1, Condition2, Electrical, Exterior1st, Exterior2nd, Foundation, Functional, GarageType, Heating, HouseStyle, LandContour, LandSlope, LotConfig, MasVnrType, MSZoning, Neighborhood, RoofMatl, RoofStyle, SaleCondition, SaleType\n",
    "\n",
    "Wrong data types: BsmtFullBath, BsmtHalfBath, CentralAir, Fireplaces, FullBath, HalfBath, KitchenAvbGr"
   ]
  },
  {
   "cell_type": "markdown",
   "metadata": {},
   "source": [
    "# 2. Data preparation / cleaning "
   ]
  },
  {
   "cell_type": "markdown",
   "metadata": {},
   "source": [
    "Columns to work on: 1stFlrSF, 2ndFlrSF (log1p), LotArea, LotFrontage, GrLivArea, BsmtUnfSF, MasVnrArea, OverallCond, SalePrice, TotalBsmtSF, 2ndFlrSF, Alley, BldgType, MiscFeature, PoolArea, WoodDeckSF, 3SsnPorch, EnclosedPorch, OpenPorchSF, ScreenPorch, WoodDeckSF, Fence, , LotShpe, Condition1, Condition2, Electrical, Exterior1st, Exterior2nd, Foundation, Functional, GarageType, Heating, HouseStyle, LandContour, LandSlope, LotConfig, MasVnrType, MSZoning, Neighborhood, RoofMatl, RoofStyle, SaleCondition, SaleType, BsmtFullBath, BsmtHalfBath, CentralAir, Fireplaces, FullBath, HalfBath, KitchenAvbGr"
   ]
  },
  {
   "cell_type": "markdown",
   "metadata": {},
   "source": [
    "### 2.1 meaningless features"
   ]
  },
  {
   "cell_type": "code",
   "execution_count": 99,
   "metadata": {},
   "outputs": [],
   "source": [
    "class DropColumns(BaseEstimator, TransformerMixin):\n",
    "    def __init__(self, columns):\n",
    "        self.columns = columns\n",
    "\n",
    "    def fit(self, X, y=None):\n",
    "        return self\n",
    "\n",
    "    def transform(self, X):\n",
    "        assert isinstance(X, pd.DataFrame)\n",
    "\n",
    "        try:\n",
    "            return X.drop(columns=self.columns)\n",
    "        \n",
    "        except KeyError:\n",
    "            cols_error = list(set(self.columns) - set(X.columns))\n",
    "            raise KeyError(\"The DataFrame does not include the columns: %s\" % cols_error)\n",
    "\n",
    "cols_to_drop = ['MSSubClass', 'Id', 'Utilities', 'Street']\n",
    "\n",
    "train = DropColumns(cols_to_drop).fit_transform(train)"
   ]
  },
  {
   "cell_type": "markdown",
   "metadata": {},
   "source": [
    "###  2.2 ordinal encoding with imputing missing values"
   ]
  },
  {
   "cell_type": "markdown",
   "metadata": {},
   "source": [
    "Features related to quality and condition"
   ]
  },
  {
   "cell_type": "code",
   "execution_count": 100,
   "metadata": {},
   "outputs": [],
   "source": [
    "class QualityEncoder(BaseEstimator, TransformerMixin):\n",
    "    \n",
    "    quality_measures = {'Ex': 5, 'Gd': 4, 'TA': 3, 'Fa': 2, 'Po': 1} \n",
    "    \n",
    "    def __init__(self, columns):\n",
    "        self.columns=columns\n",
    "        \n",
    "    def fit(self, X, y=None):\n",
    "        return self\n",
    "    \n",
    "    def transform(self,X): \n",
    "        assert isinstance(X, pd.DataFrame)\n",
    "        \n",
    "        try:\n",
    "            X.loc[:, self.columns] = X.loc[:, self.columns].replace(self.quality_measures)\n",
    "            \n",
    "            # replace NAs with 0 since NAs indicate absence of the feature\n",
    "            X.loc[:, self.columns] = X.loc[:, self.columns].fillna(0) \n",
    "            \n",
    "            return X \n",
    "            \n",
    "        except KeyError:\n",
    "            cols_error = list(set(self.columns) - set(X.columns))\n",
    "            raise KeyError('The DataFrame does not include the columns:' % cols_error)\n",
    "                           \n",
    "cols_enc_quality = ['BsmtCond', 'BsmtQual', 'ExterCond', 'ExterQual', 'FireplaceQu', \n",
    "                'GarageCond', 'GarageQual', 'HeatingQC', 'KitchenQual', 'PoolQC']\n",
    "\n",
    "train = QualityEncoder(cols_enc_quality).fit_transform(train)"
   ]
  },
  {
   "cell_type": "markdown",
   "metadata": {},
   "source": [
    "Other features that can be ordinally encoded"
   ]
  },
  {
   "cell_type": "code",
   "execution_count": 101,
   "metadata": {},
   "outputs": [],
   "source": [
    "class OtherOrdinalEncoder(BaseEstimator, TransformerMixin):\n",
    "    order_encoder = {\n",
    "        'BsmtExposure':  {'Gd': 4, 'Av': 3, 'Mn': 2, 'No': 1},\n",
    "        'BsmtFinType1': {'GLQ': 6, 'ALQ': 5, 'BLQ': 4, 'Rec': 3, 'LwQ': 2, 'Unf': 1},\n",
    "        'BsmtFinType2': {'GLQ': 6, 'ALQ': 5, 'BLQ': 4, 'Rec': 3, 'LwQ': 2, 'Unf': 1},\n",
    "        'GarageFinish': {'Fin': 3, 'RFn': 2, 'Unf': 1},\n",
    "        'LotShape': {'Reg': 4, 'IR1': 3, 'IR2': 2, 'IR3': 1},\n",
    "        'PavedDrive': {'Y': 1,'P': 0.5, 'N': 0}\n",
    "    }\n",
    "\n",
    "    def __init__(self, columns):\n",
    "        self.columns = columns\n",
    "    \n",
    "    def fit(self, X,y=None):\n",
    "        return self\n",
    "    \n",
    "    def transform(self, X):\n",
    "        \n",
    "        assert isinstance(X, pd.DataFrame)\n",
    "        \n",
    "        try:\n",
    "            \n",
    "            for col in self.columns:\n",
    "                X.loc[:, col] = X.loc[:, col].replace(self.order_encoder[col])\n",
    "            \n",
    "            # replace NAs with 0 since NAs indicate absence of the feature\n",
    "            X.loc[:, self.columns] = X.loc[:, self.columns].fillna(0)\n",
    "                \n",
    "            return X \n",
    "            \n",
    "        except KeyError:\n",
    "            cols_error = list(set(self.columns) - set(X.columns))\n",
    "            raise KeyError('The DataFrame does not include the columns:' % cols_error)\n",
    "\n",
    "        \n",
    "\n",
    "cols_ordinal = ['BsmtExposure', 'BsmtFinType1', 'BsmtFinType2', 'GarageFinish', 'LotShape', 'PavedDrive']\n",
    "\n",
    "train = OtherOrdinalEncoder(cols_ordinal).fit_transform(train)\n"
   ]
  },
  {
   "cell_type": "markdown",
   "metadata": {},
   "source": [
    "### 2.3 binary encoding with imputing missing values"
   ]
  },
  {
   "cell_type": "code",
   "execution_count": 145,
   "metadata": {},
   "outputs": [],
   "source": [
    "class CustomBinaryEncoder(BaseEstimator, TransformerMixin):\n",
    "    def __init__(self, columns):\n",
    "        self.columns = columns\n",
    "        \n",
    "    def fit(self, X, y=None):\n",
    "        return self\n",
    "    \n",
    "    def transform(self, X):\n",
    "        \n",
    "        assert isinstance(X, pd.DataFrame)\n",
    "        \n",
    "        try:\n",
    "            \n",
    "            for col in self.columns:\n",
    "                most_frequent_value = X.loc[:, col].value_counts(dropna=False).argmax()\n",
    "                if most_frequent_value is np.nan:\n",
    "                    X.loc[:, col] = X.loc[:, col].notnull().astype(int)\n",
    "                else:\n",
    "                    X.loc[:, col] = (X.loc[:, col] == most_frequent_value).astype(int)\n",
    "                    \n",
    "            return X\n",
    "            \n",
    "        except KeyError:\n",
    "            cols_error = list(set(self.columns) - set(X.columns))\n",
    "            raise KeyError('The DataFrame does not include the columns:' % cols_error)\n",
    "            \n",
    "\n",
    "cols_binary = ['Alley', 'BldgType', 'MiscFeature', 'Fence']\n",
    "\n",
    "train = CustomBinaryEncoder(cols_binary).fit_transform(train)"
   ]
  },
  {
   "cell_type": "markdown",
   "metadata": {},
   "source": [
    "###  2.3 missing values "
   ]
  },
  {
   "cell_type": "code",
   "execution_count": 146,
   "metadata": {},
   "outputs": [
    {
     "data": {
      "text/plain": [
       "LotFrontage    259\n",
       "GarageYrBlt     81\n",
       "GarageType      81\n",
       "MasVnrArea       8\n",
       "MasVnrType       8\n",
       "Electrical       1\n",
       "dtype: int64"
      ]
     },
     "execution_count": 146,
     "metadata": {},
     "output_type": "execute_result"
    }
   ],
   "source": [
    "train.isnull().sum()[train.isnull().sum()>0].sort_values(ascending=False)"
   ]
  },
  {
   "cell_type": "code",
   "execution_count": 43,
   "metadata": {},
   "outputs": [
    {
     "data": {
      "text/plain": [
       "array([nan, 'Ex', 'Fa', 'Gd'], dtype=object)"
      ]
     },
     "execution_count": 43,
     "metadata": {},
     "output_type": "execute_result"
    }
   ],
   "source": []
  },
  {
   "cell_type": "markdown",
   "metadata": {},
   "source": [
    "### 2.3 outliers"
   ]
  },
  {
   "cell_type": "markdown",
   "metadata": {},
   "source": [
    "### 2.4 skewness"
   ]
  },
  {
   "cell_type": "code",
   "execution_count": null,
   "metadata": {},
   "outputs": [],
   "source": []
  },
  {
   "cell_type": "markdown",
   "metadata": {},
   "source": [
    "# 3. Feature engineering (experimentation)"
   ]
  },
  {
   "cell_type": "markdown",
   "metadata": {},
   "source": [
    "Few remarks:\n",
    "1. Techniques: filtering, wrapper and embedded methods.\n",
    "2. Evaluation: RMSLE\n",
    "3. Test features using custom transformations"
   ]
  },
  {
   "cell_type": "markdown",
   "metadata": {},
   "source": [
    "## 3.1 feature creation"
   ]
  },
  {
   "cell_type": "markdown",
   "metadata": {},
   "source": [
    "Ideas: \n",
    "1. Bathrooms / bedroom: counted total incl. basement\n",
    "2. Total SF: 1stFlrSF + 2ndFlrSF + \n",
    "3. Free lot space: LotArea - 1stFlrSF - Garage - PoolArea - etc.\n",
    "4. Basement-related: Basement exists, Basement value = BsmtFinType1 * BsmtFinSF1 + BsmtFinType2 * BsmtFinSF2 - Unfinished part, Unfinished SF /Total Bsmt SF\n",
    "5. Fireplace value: Fireplaces * FireplacesQu\n",
    "6. Kitchen value: KitchenAvbGr * KitchenQual\n",
    "7. High Quality Floor SF: 1stFlrSF + 2ndFlrSF - LowQualFinSF\n",
    "8. Pool value: PoolArea * PoolQC"
   ]
  },
  {
   "cell_type": "markdown",
   "metadata": {},
   "source": [
    "## 3.2 feature selection\n",
    "#### Recommended: Chi-Squared Independence Test + Information Gain"
   ]
  },
  {
   "cell_type": "markdown",
   "metadata": {},
   "source": [
    "### a. filtering"
   ]
  },
  {
   "cell_type": "markdown",
   "metadata": {},
   "source": [
    "### b. wrapper"
   ]
  },
  {
   "cell_type": "markdown",
   "metadata": {},
   "source": [
    "### c. embedded methods"
   ]
  },
  {
   "cell_type": "markdown",
   "metadata": {},
   "source": [
    "# 3. Final pipeline"
   ]
  }
 ],
 "metadata": {
  "kernelspec": {
   "display_name": "Python 3",
   "language": "python",
   "name": "python3"
  },
  "language_info": {
   "codemirror_mode": {
    "name": "ipython",
    "version": 3
   },
   "file_extension": ".py",
   "mimetype": "text/x-python",
   "name": "python",
   "nbconvert_exporter": "python",
   "pygments_lexer": "ipython3",
   "version": "3.7.3"
  }
 },
 "nbformat": 4,
 "nbformat_minor": 4
}
