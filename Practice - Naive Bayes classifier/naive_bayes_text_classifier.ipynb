{
 "cells": [
  {
   "cell_type": "code",
   "execution_count": 83,
   "metadata": {},
   "outputs": [],
   "source": [
    "%matplotlib inline\n",
    "import pandas as pd\n",
    "import numpy as np\n",
    "import seaborn as sns\n",
    "import matplotlib.pyplot as plt"
   ]
  },
  {
   "cell_type": "code",
   "execution_count": 93,
   "metadata": {},
   "outputs": [],
   "source": [
    "app_freqs = pd.read_csv('data/appFreqs.csv', header=None, names=['word', 'count'])\n",
    "other_freqs = pd.read_csv('data/otherFreqs.csv', header=None, names=['word','count'])\n",
    "test = pd.read_csv('data/test.csv', header=None, names=['label','tweet'])\n",
    "\n",
    "app_total = np.sum(app_freqs['count'])\n",
    "other_total = np.sum(other_freqs['count'])\n",
    "\n",
    "app_freqs['freq'] = np.log(appFreqs['count'] / app_total)\n",
    "other_freqs['freq'] = np.log(otherFreqs['count'] / other_total)"
   ]
  },
  {
   "cell_type": "code",
   "execution_count": 88,
   "metadata": {},
   "outputs": [],
   "source": [
    "def freq(word, df):\n",
    "    try: \n",
    "        val = df.loc[df['word']==word, 'freq'].values.index[0]\n",
    "    except AttributeError:\n",
    "        val = 1/np.log(sum(df['count']))\n",
    "    return val"
   ]
  },
  {
   "cell_type": "code",
   "execution_count": 102,
   "metadata": {},
   "outputs": [],
   "source": [
    "def naive_bayes_mandrilla_classifier(test):\n",
    "    \n",
    "    def prob_tweet(tweet):\n",
    "        words = tweet.split()\n",
    "        print(words)\n",
    "        app_prob = sum([freq(word, app_freqs) for word in words])\n",
    "        other_prob = sum([freq(word, other_freqs) for word in words])\n",
    "        \n",
    "        return app_prob, other_prob\n",
    "    \n",
    "    def predictor(tweet):\n",
    "        \n",
    "        app_prob, other_prob = prob_tweet(tweet)\n",
    "        #print(app_prob, other_prob)\n",
    "        \n",
    "        app_prior = len(app_freqs) / (len(app_freqs) + len(other_freqs))\n",
    "        other_prior = len(other_freqs) / (len(app_freqs) + len(other_freqs))\n",
    "    \n",
    "        app_posterior = app_prob * app_prior\n",
    "        other_posterior = other_prob * other_prior\n",
    "       # print(app_posterior, other_posterior)\n",
    "        \n",
    "        if app_posterior > other_posterior:\n",
    "            return 'APP'\n",
    "        else:\n",
    "            return 'OTHER'\n",
    "        \n",
    "    return test['tweet'].apply(lambda tweet: predictor(tweet))"
   ]
  },
  {
   "cell_type": "code",
   "execution_count": 103,
   "metadata": {},
   "outputs": [
    {
     "name": "stdout",
     "output_type": "stream",
     "text": [
      "['just', 'love', '@mandrillapp', 'transactional', 'email', 'service', '-', 'http://mandrill.com', 'sorry', '@sendgrid', 'and', '@mailjet', '#timetomoveon']\n",
      "['@rossdeane', 'mind', 'submitting', 'a', 'request', 'at', 'http://help.mandrill.com', 'with', 'account', 'details', 'if', 'you', \"haven't\", 'already', 'glad', 'to', 'take', 'a', 'look']\n",
      "['@veroapp', 'any', 'chance', \"you'll\", 'be', 'adding', 'mandrill', 'support', 'to', 'vero']\n",
      "['@elie__', '@camj59', 'jparle', 'de', 'relai', 'smtp', '1', 'million', 'de', 'mail', 'chez', 'mandrill', '/', 'mois', 'comparé', 'à', '1', 'million', 'sur', 'lite', 'sendgrid', 'y', 'a', 'pas', 'photo', 'avec', 'mailjet']\n",
      "['would', 'like', 'to', 'send', 'emails', 'for', 'welcome', 'password', 'resets', 'payment', 'notifications', 'etc', 'what', 'should', 'i', 'use', 'was', 'looking', 'at', 'mailgun/mandrill']\n",
      "['from', 'coworker', 'about', 'using', 'mandrill', '\"i', 'would', 'entrust', 'email', 'handling', 'to', 'a', 'pokemon\".']\n",
      "['@mandrill', 'realised', 'i', 'did', 'that', 'about', '5', 'seconds', 'after', 'hitting', 'send']\n",
      "['holy', 'shit', 'it’s', 'here', 'http://www.mandrill.com/']\n",
      "['our', 'new', 'subscriber', 'profile', 'page', 'activity', 'timeline', 'aggregate', 'engagement', 'stats', 'and', 'mandrill', 'integratio', '#bjcbranding', 'http://bit.ly/13wau5c']\n",
      "['@mandrillapp', 'increases', 'scalability', '(', 'http://bit.ly/14myvuh', ')', 'then', 'decreases', 'pricing', '(', 'http://bit.ly/13uja7s', ')', '#selfinducedcannibalization']\n",
      "['the', 'beets', 'rt', '@missmya', '#nameanamazingband', 'mandrill']\n",
      "['rt', '@luissand0val', 'fernando', 'vargas', 'mandrill', 'mexican', 'pride', 'mma']\n",
      "['photo', 'oculi-ds', 'mandrill', 'by', 'natalie', 'manuel', 'http://tmblr.co/zjqanxhdswlr']\n",
      "['@mandrill', 'me', 'neither', 'we', 'can', 'be', ':sadpanda', 'together', ':(']\n",
      "['@mandrill', 'n', '/', '(', 'k', '*', '(', 'n', '-', 'k', ')', ')', 'where', 'n', '=', '5', 'and', 'k', '=', '4', 'it', 'has', 'been', 'a', 'long', 'time', 'but', 'i', 'think', 'that', 'is', 'it']\n",
      "['megaman', 'x', '-', 'spark', 'mandrill', 'acapella', 'http://youtu.be/hyx9-kwyjdi', '@youtubeさんから']\n",
      "['@angeluserrare1', 'storm', 'eagle', 'ftw', 'nomás', 'no', 'dejes', 'que', 'se', 'le', 'acerque', 'spark', 'mandrill', 'xd']\n",
      "['gostei', 'de', 'um', 'vídeo', '@youtube', 'http://youtu.be/xzny7zimtni', 'aspark', '…', \"mandrill's\", 'stage', 'on', 'guitar', '(mega', 'man', 'x)']\n",
      "['what', 'is', '2-year-old', 'mandrill', 'jj', 'thinking', 'in', 'this', 'pic', 'http://ow.ly/jfrqf', 're-tweet', 'with', 'your', 'caption.']\n",
      "['120', 'years', 'of', 'moscow', 'zoo', '-', 'mandrill', '-', 'поста', 'ссср', '#postage', '#stamp', '3347', 'from', 'soviet', 'union', 'in', '1984', '#philately', 'http://tinyurl.com/cguyvzb']\n"
     ]
    },
    {
     "data": {
      "text/html": [
       "<div>\n",
       "<style scoped>\n",
       "    .dataframe tbody tr th:only-of-type {\n",
       "        vertical-align: middle;\n",
       "    }\n",
       "\n",
       "    .dataframe tbody tr th {\n",
       "        vertical-align: top;\n",
       "    }\n",
       "\n",
       "    .dataframe thead th {\n",
       "        text-align: right;\n",
       "    }\n",
       "</style>\n",
       "<table border=\"1\" class=\"dataframe\">\n",
       "  <thead>\n",
       "    <tr style=\"text-align: right;\">\n",
       "      <th>tweet</th>\n",
       "      <th>OTHER</th>\n",
       "    </tr>\n",
       "    <tr>\n",
       "      <th>label</th>\n",
       "      <th></th>\n",
       "    </tr>\n",
       "  </thead>\n",
       "  <tbody>\n",
       "    <tr>\n",
       "      <td>APP</td>\n",
       "      <td>10</td>\n",
       "    </tr>\n",
       "    <tr>\n",
       "      <td>OTHER</td>\n",
       "      <td>10</td>\n",
       "    </tr>\n",
       "  </tbody>\n",
       "</table>\n",
       "</div>"
      ],
      "text/plain": [
       "tweet  OTHER\n",
       "label       \n",
       "APP       10\n",
       "OTHER     10"
      ]
     },
     "execution_count": 103,
     "metadata": {},
     "output_type": "execute_result"
    }
   ],
   "source": [
    "preds = naive_bayes_mandrilla_classifier(test)\n",
    "pd.crosstab(test['label'], preds)"
   ]
  }
 ],
 "metadata": {
  "kernelspec": {
   "display_name": "Python 3",
   "language": "python",
   "name": "python3"
  },
  "language_info": {
   "codemirror_mode": {
    "name": "ipython",
    "version": 3
   },
   "file_extension": ".py",
   "mimetype": "text/x-python",
   "name": "python",
   "nbconvert_exporter": "python",
   "pygments_lexer": "ipython3",
   "version": "3.7.4"
  }
 },
 "nbformat": 4,
 "nbformat_minor": 4
}
