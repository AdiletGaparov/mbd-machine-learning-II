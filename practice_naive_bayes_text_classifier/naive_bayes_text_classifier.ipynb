{
 "cells": [
  {
   "cell_type": "code",
   "execution_count": 2,
   "metadata": {},
   "outputs": [],
   "source": [
    "%matplotlib inline\n",
    "import pandas as pd\n",
    "import numpy as np\n",
    "import seaborn as sns\n",
    "import matplotlib.pyplot as plt"
   ]
  },
  {
   "cell_type": "code",
   "execution_count": 4,
   "metadata": {},
   "outputs": [],
   "source": [
    "appFreqs = pd.read_csv('data/appFreqs.csv', header=None, names=['word', 'count'])\n",
    "otherFreqs = pd.read_csv('data/otherFreqs.csv', header=None, names=['word','count'])\n",
    "test = pd.read_csv('data/test.csv', header=None, names=['label','tweet'])\n",
    "\n",
    "appTotal = np.sum(appFreqs['count'])\n",
    "otherTotal = np.sum(otherFreqs['count'])\n",
    "\n",
    "appFreqs['freq'] = np.log(appFreqs['count'] / appTotal)\n",
    "otherFreqs['freq'] = np.log(otherFreqs['count'] / otherTotal)"
   ]
  },
  {
   "cell_type": "code",
   "execution_count": 77,
   "metadata": {},
   "outputs": [],
   "source": [
    "def freq(word, df):\n",
    "    try: \n",
    "        val = df.loc[df['word']==word, 'freq'].values.index[0]\n",
    "    except AttributeError:\n",
    "        val = 1/np.log(sum(df['count']))\n",
    "    return val"
   ]
  },
  {
   "cell_type": "code",
   "execution_count": null,
   "metadata": {},
   "outputs": [],
   "source": [
    "def naive_bayes_mandrilla_classifier(test):\n",
    "    tweets = test['tweet'].copy()\n",
    "    app_prior = len(appFreqs) / (len(appFreqs) + len(otherFreqs))\n",
    "    other_prior = len(otherFreqs) / (len(appFreqs) + len(otherFreqs))\n",
    "    \n",
    "    def prob_tweet(tweet):\n",
    "        words = tweet.split()\n",
    "        app_prob = sum([freq(word, appFreqs) for word in words])\n",
    "        other_prob = sum([freq(word, otherFreqs) for word in words])\n",
    "        appPosterior\n",
    "        \n",
    "        return "
   ]
  },
  {
   "cell_type": "code",
   "execution_count": 82,
   "metadata": {},
   "outputs": [
    {
     "data": {
      "text/plain": [
       "['@rossdeane',\n",
       " 'mind',\n",
       " 'submitting',\n",
       " 'a',\n",
       " 'request',\n",
       " 'at',\n",
       " 'http://help.mandrill.com',\n",
       " 'with',\n",
       " 'account',\n",
       " 'details',\n",
       " 'if',\n",
       " 'you',\n",
       " \"haven't\",\n",
       " 'already',\n",
       " 'glad',\n",
       " 'to',\n",
       " 'take',\n",
       " 'a',\n",
       " 'look']"
      ]
     },
     "execution_count": 82,
     "metadata": {},
     "output_type": "execute_result"
    }
   ],
   "source": [
    "test['tweet'][1].split()"
   ]
  }
 ],
 "metadata": {
  "kernelspec": {
   "display_name": "Python 3",
   "language": "python",
   "name": "python3"
  },
  "language_info": {
   "codemirror_mode": {
    "name": "ipython",
    "version": 3
   },
   "file_extension": ".py",
   "mimetype": "text/x-python",
   "name": "python",
   "nbconvert_exporter": "python",
   "pygments_lexer": "ipython3",
   "version": "3.7.3"
  }
 },
 "nbformat": 4,
 "nbformat_minor": 4
}
